{
 "cells": [
  {
   "cell_type": "code",
   "execution_count": 1,
   "metadata": {},
   "outputs": [],
   "source": [
    "import bs4\n",
    "import requests\n",
    "import urllib.request\n",
    "import os \n",
    "# url = input(\"Please Enter the url\")\n",
    "url = \"https://unsplash.com\"#for example \n",
    "r = requests.get(url)\n",
    "soup2 = bs4.BeautifulSoup(r.text,\"html.parser\")\n",
    "\n",
    "links = []\n",
    "\n",
    "x = soup2.select('img[src^=\"https://images.unsplash.com/photo\"]')\n",
    "\n",
    "for img in x:\n",
    "    links.append(img['src'])\n",
    "# for l in links:\n",
    "#     print(l)\n",
    "os.mkdir('test-images')\n",
    "i=1\n",
    "for idx,img_link in enumerate(links):\n",
    "    if i<=10:#grab only 10 imgs\n",
    "        img_data = requests.get(img_link).content\n",
    "        with open('test-images/'+str(idx+1)+'.jpg','wb+') as f:\n",
    "            f.write(img_data)\n",
    "        i+=1\n",
    "    else:\n",
    "        f.close()\n",
    "        break"
   ]
  },
  {
   "cell_type": "code",
   "execution_count": null,
   "metadata": {},
   "outputs": [],
   "source": []
  }
 ],
 "metadata": {
  "kernelspec": {
   "display_name": "Python 3",
   "language": "python",
   "name": "python3"
  },
  "language_info": {
   "codemirror_mode": {
    "name": "ipython",
    "version": 3
   },
   "file_extension": ".py",
   "mimetype": "text/x-python",
   "name": "python",
   "nbconvert_exporter": "python",
   "pygments_lexer": "ipython3",
   "version": "3.7.4"
  }
 },
 "nbformat": 4,
 "nbformat_minor": 2
}
